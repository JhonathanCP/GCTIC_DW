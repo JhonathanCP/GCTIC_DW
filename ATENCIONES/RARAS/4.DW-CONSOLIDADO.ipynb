{
 "cells": [
  {
   "cell_type": "code",
   "execution_count": 63,
   "metadata": {},
   "outputs": [],
   "source": [
    "import pandas as pd\n",
    "from sqlalchemy import create_engine\n",
    "from sqlalchemy import text"
   ]
  },
  {
   "cell_type": "code",
   "execution_count": 64,
   "metadata": {},
   "outputs": [],
   "source": [
    "\n",
    "# Configuración de la conexión a PostgreSQL\n",
    "DB_CONFIG = {\n",
    "    'dbname': 'DATAWAREHOUSE_ESSI',\n",
    "    'user': 'postgres',\n",
    "    'password': 'Password2',\n",
    "    'host': '10.0.1.6',\n",
    "    'port': '5432',\n",
    "}\n",
    "\n",
    "TABLAS_ATENCION = [\n",
    "    \"dw_consulta_externa\",\n",
    "    \"dw_emergencia_egresos\",\n",
    "    \"dw_hospitalizacion_egresos\",\n",
    "    \"dw_centro_quirurgico\",\n",
    "]\n",
    "\n",
    "LISTA_UNICA = \"mtd_lista_unica_pacientes\"\n",
    "\n",
    "TIPO_BUSQUEDA = 10\n",
    "\n",
    "DW_CONSOLIDADO = \"consolidado_atenciones_ryh\"\n",
    "\n",
    "# Mapeo de nombres de columna de fecha según la tabla de atención\n",
    "MAPEO_FECHA_ATENCION = {\n",
    "    \"dw_consulta_externa\": \"fecha_atencion\",\n",
    "    \"dw_emergencia_egresos\": \"fec_altadm\",\n",
    "    \"dw_hospitalizacion_egresos\": \"fec_egreso\",\n",
    "    \"dw_centro_quirurgico\": \"fec_oper\"\n",
    "}\n",
    "\n",
    "# Columnas estándar en las tablas temporales\n",
    "COLUMNAS_STD = [\n",
    "    \"cod_oricentro\", \"cod_centro\", \"acto_med\", \"periodo\", \"fecha_atencion\", \n",
    "    \"cmame_pacsecnum\", \"cod_tipdoc_paciente\", \"doc_paciente\", \"anio_edad\", \"sexo\",\n",
    "    \"cod_conddiag\", \"cod_diagnostico\", \"cod_orden\", \"cod_tipodiag\", \"area\", \n",
    "    \"anio_busqueda\", \"cod_secuencia\", \"cas_adscripcion\", \"cod_servicio\", \"cod_actividad\",\n",
    "    \"cod_subactividad\", \"cod_cartera\", \"cod_cpms\", \"cod_tipdoc_medico\", \"dni_medico\", \"num_solicitud\"\n",
    "]"
   ]
  },
  {
   "cell_type": "code",
   "execution_count": 65,
   "metadata": {},
   "outputs": [],
   "source": [
    "engine = create_engine(f'postgresql://{DB_CONFIG[\"user\"]}:{DB_CONFIG[\"password\"]}@{DB_CONFIG[\"host\"]}:{DB_CONFIG[\"port\"]}/{DB_CONFIG[\"dbname\"]}')\n",
    "connection = engine.connect()"
   ]
  },
  {
   "cell_type": "code",
   "execution_count": 66,
   "metadata": {},
   "outputs": [
    {
     "data": {
      "text/plain": [
       "<sqlalchemy.engine.cursor.CursorResult at 0x175a6d1bd20>"
      ]
     },
     "execution_count": 66,
     "metadata": {},
     "output_type": "execute_result"
    }
   ],
   "source": [
    "# Crear tabla temporal si no existe\n",
    "connection.execute(text(f\"\"\"\n",
    "    CREATE TABLE IF NOT EXISTS public.test2 (\n",
    "        cod_oricentro VARCHAR(1),\n",
    "        cod_centro VARCHAR(3),\n",
    "        acto_med NUMERIC(10),\n",
    "        periodo VARCHAR(6),\n",
    "        fecha_atencion VARCHAR(10),  -- Se mantiene como string \"DD/MM/YYYY\"\n",
    "        cmame_pacsecnum VARCHAR(20),\n",
    "        cod_tipdoc_paciente VARCHAR(2),\n",
    "        doc_paciente VARCHAR(20),\n",
    "        anio_edad INT,\n",
    "        sexo CHAR(1),\n",
    "        area VARCHAR(500),\n",
    "        anio_busqueda VARCHAR(500),\n",
    "        cas_adscripcion VARCHAR(500),\n",
    "        cod_servicio VARCHAR(20),\n",
    "        cod_actividad VARCHAR(30),\n",
    "        cod_subactividad VARCHAR(30),\n",
    "        cod_cartera VARCHAR(30),\n",
    "        cod_cpms VARCHAR(30),\n",
    "        cod_tipdoc_medico VARCHAR(30),\n",
    "        dni_medico VARCHAR(30),\n",
    "        num_solicitud INT\n",
    "    )\n",
    "\"\"\"))\n",
    "\n",
    "# Vaciar la tabla temporal\n",
    "connection.execute(text(f\"TRUNCATE TABLE {DW_CONSOLIDADO}\"))"
   ]
  },
  {
   "cell_type": "code",
   "execution_count": 67,
   "metadata": {},
   "outputs": [],
   "source": [
    "query_base1 = f\"\"\"select * from {DW_CONSOLIDADO} limit 10\"\"\"\n",
    "\n",
    "base1 = pd.read_sql(query_base1, connection)"
   ]
  },
  {
   "cell_type": "code",
   "execution_count": 68,
   "metadata": {},
   "outputs": [
    {
     "data": {
      "text/html": [
       "<div>\n",
       "<style scoped>\n",
       "    .dataframe tbody tr th:only-of-type {\n",
       "        vertical-align: middle;\n",
       "    }\n",
       "\n",
       "    .dataframe tbody tr th {\n",
       "        vertical-align: top;\n",
       "    }\n",
       "\n",
       "    .dataframe thead th {\n",
       "        text-align: right;\n",
       "    }\n",
       "</style>\n",
       "<table border=\"1\" class=\"dataframe\">\n",
       "  <thead>\n",
       "    <tr style=\"text-align: right;\">\n",
       "      <th></th>\n",
       "      <th>cod_oricentro</th>\n",
       "      <th>cod_centro</th>\n",
       "      <th>acto_med</th>\n",
       "      <th>periodo</th>\n",
       "      <th>fecha_atencion</th>\n",
       "      <th>cmame_pacsecnum</th>\n",
       "      <th>cod_tipdoc_paciente</th>\n",
       "      <th>doc_paciente</th>\n",
       "      <th>anio_edad</th>\n",
       "      <th>sexo</th>\n",
       "      <th>...</th>\n",
       "      <th>cod_secuencia</th>\n",
       "      <th>cas_adscripcion</th>\n",
       "      <th>cod_servicio</th>\n",
       "      <th>cod_actividad</th>\n",
       "      <th>cod_subactividad</th>\n",
       "      <th>cod_cartera</th>\n",
       "      <th>cod_cpms</th>\n",
       "      <th>cod_tipdoc_medico</th>\n",
       "      <th>dni_medico</th>\n",
       "      <th>num_solicitud</th>\n",
       "    </tr>\n",
       "  </thead>\n",
       "  <tbody>\n",
       "  </tbody>\n",
       "</table>\n",
       "<p>0 rows × 22 columns</p>\n",
       "</div>"
      ],
      "text/plain": [
       "Empty DataFrame\n",
       "Columns: [cod_oricentro, cod_centro, acto_med, periodo, fecha_atencion, cmame_pacsecnum, cod_tipdoc_paciente, doc_paciente, anio_edad, sexo, area, anio_busqueda, cod_secuencia, cas_adscripcion, cod_servicio, cod_actividad, cod_subactividad, cod_cartera, cod_cpms, cod_tipdoc_medico, dni_medico, num_solicitud]\n",
       "Index: []\n",
       "\n",
       "[0 rows x 22 columns]"
      ]
     },
     "execution_count": 68,
     "metadata": {},
     "output_type": "execute_result"
    }
   ],
   "source": [
    "base1"
   ]
  },
  {
   "cell_type": "code",
   "execution_count": 69,
   "metadata": {},
   "outputs": [],
   "source": [
    "DNIS = f\"\"\"SELECT cod_tipdoc_paciente, doc_paciente FROM {LISTA_UNICA} where tipo_busqueda = {TIPO_BUSQUEDA}\"\"\"\n",
    "df_lista_unica = pd.read_sql(DNIS, connection)"
   ]
  },
  {
   "cell_type": "code",
   "execution_count": 70,
   "metadata": {},
   "outputs": [],
   "source": [
    "df_lista_unica = df_lista_unica.drop_duplicates(subset=['cod_tipdoc_paciente', 'doc_paciente'])"
   ]
  },
  {
   "cell_type": "code",
   "execution_count": 71,
   "metadata": {},
   "outputs": [],
   "source": [
    "query = 'select * from dw_consulta_externa_2019_01'\n",
    "dw = pd.read_sql(query, connection)"
   ]
  },
  {
   "cell_type": "code",
   "execution_count": 72,
   "metadata": {},
   "outputs": [
    {
     "data": {
      "text/plain": [
       "(400458, 49)"
      ]
     },
     "execution_count": 72,
     "metadata": {},
     "output_type": "execute_result"
    }
   ],
   "source": [
    "dw.shape"
   ]
  },
  {
   "cell_type": "code",
   "execution_count": 73,
   "metadata": {},
   "outputs": [],
   "source": [
    "df_main = dw.merge(df_lista_unica, on=['cod_tipdoc_paciente', 'doc_paciente'], how='inner')\n"
   ]
  },
  {
   "cell_type": "code",
   "execution_count": 74,
   "metadata": {},
   "outputs": [
    {
     "data": {
      "text/plain": [
       "(82184, 49)"
      ]
     },
     "execution_count": 74,
     "metadata": {},
     "output_type": "execute_result"
    }
   ],
   "source": [
    "df_main.shape"
   ]
  },
  {
   "cell_type": "code",
   "execution_count": 75,
   "metadata": {},
   "outputs": [],
   "source": [
    "def procesar_datos(fecha_inicio, fecha_fin):                               \n",
    "        for i in range(len(TABLAS_ATENCION)):\n",
    "                        tabla_a = TABLAS_ATENCION[i]\n",
    "                        columna_fecha = MAPEO_FECHA_ATENCION[tabla_a]\n",
    "                        for anio in range(int(fecha_inicio[:4]), int(fecha_fin[:4]) + 1):\n",
    "                                for mes in range(1, 13):\n",
    "                                        mes_str = f\"{mes:02d}\"\n",
    "                                        if f\"{anio}{mes_str}\" < fecha_inicio or f\"{anio}{mes_str}\" > fecha_fin:\n",
    "                                                continue                                \n",
    "                                        tabla_particionada = f\"{tabla_a}_{anio}_{mes_str}\"\n",
    "                                        print(f\"Procesando tabla {tabla_particionada}...\")\n",
    "                                        area = \"'CEXT'\" if tabla_a == \"dw_consulta_externa\" else \\\n",
    "                                                \"'EMER'\" if tabla_a == \"dw_emergencia_egresos\" else \\\n",
    "                                                \"'HOSP'\" if tabla_a == \"dw_hospitalizacion_egresos\" else \\\n",
    "                                                \"'CQX'\" if tabla_a == \"dw_centro_quirurgico\" else ''\n",
    "                                        cod_actividad = \"cod_actividad\" if tabla_a == \"dw_consulta_externa\" else \\\n",
    "                                                \"''\" if tabla_a == \"dw_emergencia_egresos\" else \\\n",
    "                                                \"cod_actividad\" if tabla_a == \"dw_hospitalizacion_egresos\" else \\\n",
    "                                                \"''\" if tabla_a == \"dw_centro_quirurgico\" else ''\n",
    "                                        cod_subactividad = \"cod_subactividad\" if tabla_a == \"dw_consulta_externa\" else \\\n",
    "                                                \"''\" if tabla_a == \"dw_emergencia_egresos\" else \\\n",
    "                                                \"''\" if tabla_a == \"dw_hospitalizacion_egresos\" else \\\n",
    "                                                \"''\" if tabla_a == \"dw_centro_quirurgico\" else ''\n",
    "                                        cod_cartera = \"cod_cartera\" if tabla_a == \"dw_consulta_externa\" else \\\n",
    "                                                \"''\" if tabla_a == \"dw_emergencia_egresos\" else \\\n",
    "                                                \"''\" if tabla_a == \"dw_hospitalizacion_egresos\" else \\\n",
    "                                                \"''\" if tabla_a == \"dw_centro_quirurgico\" else ''\n",
    "                                        cod_cpms = \"cod_cpms\" if tabla_a == \"dw_consulta_externa\" else \\\n",
    "                                                \"''\" if tabla_a == \"dw_emergencia_egresos\" else \\\n",
    "                                                \"''\" if tabla_a == \"dw_hospitalizacion_egresos\" else \\\n",
    "                                                \"cod_cpms\" if tabla_a == \"dw_centro_quirurgico\" else ''\n",
    "                                        cod_tipdoc_medico = \"cod_tipdoc_medico\" if tabla_a == \"dw_consulta_externa\" else \\\n",
    "                                                \"''\" if tabla_a == \"dw_emergencia_egresos\" else \\\n",
    "                                                \"cod_tipdoc_medico\" if tabla_a == \"dw_hospitalizacion_egresos\" else \\\n",
    "                                                \"cod_tipdoc_medico\" if tabla_a == \"dw_centro_quirurgico\" else ''\n",
    "                                        dni_medico = \"dni_medico\" if tabla_a == \"dw_consulta_externa\" else \\\n",
    "                                                \"''\" if tabla_a == \"dw_emergencia_egresos\" else \\\n",
    "                                                \"dni_medico\" if tabla_a == \"dw_hospitalizacion_egresos\" else \\\n",
    "                                                \"dni_medico\" if tabla_a == \"dw_centro_quirurgico\" else ''\n",
    "                                        num_solicitud = \"num_solicitud\" if tabla_a == \"dw_centro_quirurgico\" else 0\n",
    "                                        query = f\"\"\"\n",
    "                                                SELECT a.cod_oricentro, a.cod_centro, a.acto_med, a.periodo,\n",
    "                                                a.{columna_fecha} AS fecha_atencion,  -- 🔹 Se mapea a \"fecha_atencion\"\n",
    "                                                a.cmame_pacsecnum, a.cod_tipdoc_paciente, \n",
    "                                                a.doc_paciente, a.anio_edad, a.sexo,\n",
    "                                                {area} AS area, a.anio as anio_busqueda,\n",
    "                                                cas_adscripcion, a.cod_servicio, {cod_actividad} AS cod_actividad, \n",
    "                                                {cod_subactividad} AS cod_subactividad, {cod_cartera} AS cod_cartera,\n",
    "                                                {cod_cpms} AS cod_cpms, {cod_tipdoc_medico} AS cod_tipdoc_medico, {dni_medico} AS dni_medico,\n",
    "                                                {num_solicitud} AS num_solicitud\n",
    "                                                FROM {tabla_particionada} a\"\"\"\n",
    "                                        df_atenciones = pd.read_sql(query, connection)\n",
    "                                        \n",
    "                                        df_main = df_atenciones.merge(df_lista_unica, on=['cod_tipdoc_paciente', 'doc_paciente'], how='inner')\n",
    "\n",
    "                                        print(df_main.shape)\n",
    "                                        \n",
    "                                        # query_base1 = f\"\"\"select * from {DW_CONSOLIDADO} limit 10\"\"\"\n",
    "\n",
    "                                        # base1 = pd.read_sql(query_base1, connection)\n",
    "                                        \n",
    "                                        # comunes = set(base1.columns).intersection(set(df_main.columns)) \n",
    "                                        # base = df_main[list(comunes)]\n",
    "                                        \n",
    "\n",
    "                                        df_main.to_sql(name=f'public.test2', con=connection, if_exists='append', index=False,chunksize=50000)\n",
    "                                        print(\"Proceso completado.\")\n"
   ]
  },
  {
   "cell_type": "code",
   "execution_count": 76,
   "metadata": {},
   "outputs": [
    {
     "name": "stdout",
     "output_type": "stream",
     "text": [
      "Procesando tabla dw_consulta_externa_2019_01...\n",
      "(82184, 21)\n",
      "Proceso completado.\n",
      "Procesando tabla dw_emergencia_egresos_2019_01...\n",
      "(8381, 21)\n",
      "Proceso completado.\n",
      "Procesando tabla dw_hospitalizacion_egresos_2019_01...\n",
      "(329, 21)\n",
      "Proceso completado.\n",
      "Procesando tabla dw_centro_quirurgico_2019_01...\n",
      "(233, 21)\n",
      "Proceso completado.\n"
     ]
    }
   ],
   "source": [
    "procesar_datos(\"201901\", \"201901\")"
   ]
  },
  {
   "cell_type": "code",
   "execution_count": 77,
   "metadata": {},
   "outputs": [],
   "source": [
    "# engine.dispose()\n",
    "\n",
    "# connection.close()"
   ]
  }
 ],
 "metadata": {
  "kernelspec": {
   "display_name": "Python 3",
   "language": "python",
   "name": "python3"
  },
  "language_info": {
   "codemirror_mode": {
    "name": "ipython",
    "version": 3
   },
   "file_extension": ".py",
   "mimetype": "text/x-python",
   "name": "python",
   "nbconvert_exporter": "python",
   "pygments_lexer": "ipython3",
   "version": "3.13.2"
  }
 },
 "nbformat": 4,
 "nbformat_minor": 2
}
