{
 "cells": [
  {
   "cell_type": "code",
   "execution_count": 2,
   "metadata": {},
   "outputs": [],
   "source": [
    "import polars as pl"
   ]
  },
  {
   "cell_type": "code",
   "execution_count": 8,
   "metadata": {},
   "outputs": [
    {
     "name": "stdout",
     "output_type": "stream",
     "text": [
      "shape: (3, 2)\n",
      "┌────────────┬──────────┐\n",
      "│ date       ┆ to_date  │\n",
      "│ ---        ┆ ---      │\n",
      "│ str        ┆ str      │\n",
      "╞════════════╪══════════╡\n",
      "│ 01/01/2020 ┆ 01/01/20 │\n",
      "│ 02/01/2020 ┆ 02/01/20 │\n",
      "│ 03/01/2020 ┆ 03/01/20 │\n",
      "└────────────┴──────────┘\n"
     ]
    }
   ],
   "source": [
    "# Create DataFrame with a column named 'date'\n",
    "df = pl.DataFrame({'date': ['01/01/2020', '02/01/2020', '03/01/2020']})\n",
    "\n",
    "# Convert the 'date' column to datetime format\n",
    "df = df.with_columns([pl.col('date').str.to_date(format='%d/%m/%Y').alias('to_date')])\n",
    "\n",
    "df = df.with_columns([pl.col('to_date').dt.to_string(\"%d/%m/%y\").alias('to_date')])\n",
    "\n",
    "print(df)"
   ]
  }
 ],
 "metadata": {
  "kernelspec": {
   "display_name": "Python 3",
   "language": "python",
   "name": "python3"
  },
  "language_info": {
   "codemirror_mode": {
    "name": "ipython",
    "version": 3
   },
   "file_extension": ".py",
   "mimetype": "text/x-python",
   "name": "python",
   "nbconvert_exporter": "python",
   "pygments_lexer": "ipython3",
   "version": "3.13.2"
  }
 },
 "nbformat": 4,
 "nbformat_minor": 2
}
